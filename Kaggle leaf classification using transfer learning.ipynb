{
 "cells": [
  {
   "cell_type": "code",
   "execution_count": null,
   "metadata": {},
   "outputs": [],
   "source": [
    "import numpy as np\n",
    "import os\n",
    "import shutil\n",
    "import random\n",
    "import pickle\n",
    "\n",
    "from tqdm import tqdm\n",
    "from keras.applications.inception_v3 import InceptionV3,preprocess_input,decode_predictions\n",
    "from keras.preprocessing.image import img_to_array,load_img\n",
    "from sklearn.linear_model import LogisticRegression\n",
    "from sklearn.preprocessing import LabelEncoder"
   ]
  },
  {
   "cell_type": "code",
   "execution_count": null,
   "metadata": {},
   "outputs": [],
   "source": [
    "# read train.csv and find images id\n",
    "\n",
    "trainClass=[]\n",
    "with open('./train.csv/train.csv',mode='r') as reading:\n",
    "    trainClass=reading.readlines()[1:]\n",
    "trainClass=[t.split(',')[0:2] for t in trainClass]\n",
    "print(len(trainClass))    "
   ]
  },
  {
   "cell_type": "code",
   "execution_count": null,
   "metadata": {},
   "outputs": [],
   "source": [
    "# make dataset folder. each class has a folder \n",
    "# and images of classes are splitted in these folders\n",
    "\n",
    "for classes in trainClass:\n",
    "    if not os.path.exists(\"./dataset/\"+classes[1]):\n",
    "        os.makedirs(\"./dataset/\"+classes[1])\n",
    "    shutil.copy2('./images/{}.jpg'.format(classes[0]),'./dataset/{}/{}.jpg'.format(classes[1],classes[0]))"
   ]
  },
  {
   "cell_type": "code",
   "execution_count": null,
   "metadata": {},
   "outputs": [],
   "source": [
    "# load InceptionV3 model (without top layer) for feature extraction \n",
    "\n",
    "model= InceptionV3(include_top=False)"
   ]
  },
  {
   "cell_type": "code",
   "execution_count": null,
   "metadata": {},
   "outputs": [],
   "source": [
    "# make imagepath and labelEncoder\n",
    "\n",
    "imagesPath=[]\n",
    "labels=[]\n",
    "le = LabelEncoder()\n",
    "dirs=os.listdir('./dataset/')\n",
    "for d in dirs:\n",
    "    for f in os.listdir('./dataset/'+d):\n",
    "        imagesPath.append(os.path.sep.join(['.\\\\dataset',d,f]))\n",
    "        labels.append(d)\n",
    "le.fit(labels)\n"
   ]
  },
  {
   "cell_type": "code",
   "execution_count": null,
   "metadata": {},
   "outputs": [],
   "source": [
    "# feed all training images to InceptionV3 model\n",
    "# and extract features \n",
    "\n",
    "batchSize=32\n",
    "exctractedFeatures=[]\n",
    "for (b, i) in enumerate(tqdm(range(0, len(imagesPath), batchSize))):\n",
    "\n",
    "    batchPaths = imagesPath[i:i + batchSize]\n",
    "    batchLabels = le.transform(labels[i:i + batchSize])\n",
    "    batchImages = []\n",
    "    for imagePath in batchPaths:\n",
    "        # load the input image using the Keras helper utility\n",
    "        # while ensuring the image is resized to 229x299 pixels\n",
    "        image = load_img(imagePath, target_size=(299, 299))\n",
    "        image = img_to_array(image)\n",
    "        \n",
    "        # preprocess the image by (1) expanding the dimensions and\n",
    "        # (2) subtracting the mean RGB pixel intensity from the\n",
    "        # ImageNet dataset\n",
    "        image = np.expand_dims(image, axis=0)\n",
    "        image = preprocess_input(image)\n",
    "        \n",
    "        # add the image to the batch\n",
    "        batchImages.append(image)\n",
    "\n",
    "    batchImages = np.vstack(batchImages)\n",
    "    features = model.predict(batchImages, batchSize)\n",
    "    features = features.reshape((features.shape[0], 8 * 8 * 2048))\n",
    "    \n",
    "    # construct a row that exists of the class label and extracted features\n",
    "    for (label, vec) in zip(batchLabels, features):\n",
    "        vec = \",\".join([str(v) for v in vec])\n",
    "        exctractedFeatures.append(','.join([str(label), vec]))"
   ]
  },
  {
   "cell_type": "code",
   "execution_count": null,
   "metadata": {},
   "outputs": [],
   "source": [
    "# save exctracted features to a csv file\n",
    "\n",
    "with open(\"exctractedFeatures.csv\",mode='wt', encoding='utf-8') as myfile:\n",
    "    for lines in exctractedFeatures:\n",
    "        myfile.write(lines)"
   ]
  },
  {
   "cell_type": "code",
   "execution_count": null,
   "metadata": {},
   "outputs": [],
   "source": [
    "# method for splitting images and labels to train and test\n",
    "\n",
    "def splitDatas(splitPath,trainRate=0.7):\n",
    "    # initialize the data and labels\n",
    "    trainX=[]\n",
    "    trainY=[]\n",
    "    testX=[]\n",
    "    testY = []\n",
    "    # loop over the rows in the data split file\n",
    "    random.shuffle(splitPath)\n",
    "    trainLength=int(len(splitPath)*trainRate)\n",
    "#     print(trainLength)\n",
    "    for row in tqdm(splitPath[:trainLength],desc=\"TrainSet\"):\n",
    "        # extract the class label and features from the row\n",
    "        row = row.strip().split(\",\")\n",
    "        label = row[0]\n",
    "        features = np.array(row[1:], dtype=\"float\")\n",
    "        # update the data and label lists\n",
    "        trainX.append(features)\n",
    "        trainY.append(label)\n",
    "    for row in tqdm(splitPath[trainLength:],desc=\"TestSet\"):\n",
    "        # extract the class label and features from the row\n",
    "        row = row.strip().split(\",\")\n",
    "        label = row[0]\n",
    "        features = np.array(row[1:], dtype=\"float\")\n",
    "        # update the data and label lists\n",
    "        testX.append(features)\n",
    "        testY.append(label)\n",
    "    # convert the data and labels to NumPy arrays\n",
    "    trainX = np.array(trainX)\n",
    "    trainY = np.array(trainY)\n",
    "    testX = np.array(testX)\n",
    "    testY = np.array(testY)\n",
    "    # return a tuple of the data and labels\n",
    "    return (trainX, trainY,testX,testY)\n",
    "\n",
    "(trainX, trainY,testX,testY) = splitDatas(exctractedFeatures)"
   ]
  },
  {
   "cell_type": "code",
   "execution_count": null,
   "metadata": {},
   "outputs": [],
   "source": [
    "# train a logistic regression model from extracted features\n",
    "\n",
    "model2 = LogisticRegression(solver=\"lbfgs\", multi_class='multinomial', max_iter=30)\n",
    "model2.fit(trainX, trainY)"
   ]
  },
  {
   "cell_type": "code",
   "execution_count": null,
   "metadata": {},
   "outputs": [],
   "source": [
    "# evaluating logistic regression model with testX and testY\n",
    "\n",
    "preds = model2.predict(testX)\n",
    "score = model2.score(testX, testY)\n",
    "print(score)"
   ]
  },
  {
   "cell_type": "code",
   "execution_count": null,
   "metadata": {},
   "outputs": [],
   "source": [
    "# save logistic regression model and label encoder\n",
    "\n",
    "pickle.dump(le,open('LE.pickle',mode='wb'))\n",
    "pickle.dump(model2,open('LeafLinearregresion.model',mode='wb'))"
   ]
  },
  {
   "cell_type": "code",
   "execution_count": null,
   "metadata": {},
   "outputs": [],
   "source": [
    "# read test.csv and find test images ids\n",
    "test=[]\n",
    "with open('./test.csv/test.csv',mode='r') as reading:\n",
    "    test=reading.readlines()[1:]\n",
    "test=[t.split(',')[0] for t in test]\n",
    "# load, preproccess and classify test images\n",
    "for i in test:\n",
    "        image = load_img('./images/'+i+'.jpg', target_size=(299, 299))\n",
    "        image = img_to_array(image)\n",
    "        image = np.expand_dims(image, axis=0)\n",
    "        image = preprocess_input(image)\n",
    "        features = model.predict(image)\n",
    "        features = features.reshape((features.shape[0], 8 * 8 * 2048))\n",
    "        preds = model2.predict(features)\n",
    "        # find predicted class name using label encoder inverse transform\n",
    "        print('{}.jpg is classified as {}'.format(i,le.inverse_transform([int(preds[0])])[0]))\n"
   ]
  }
 ],
 "metadata": {
  "kernelspec": {
   "display_name": "Python 3",
   "language": "python",
   "name": "python3"
  },
  "language_info": {
   "codemirror_mode": {
    "name": "ipython",
    "version": 3
   },
   "file_extension": ".py",
   "mimetype": "text/x-python",
   "name": "python",
   "nbconvert_exporter": "python",
   "pygments_lexer": "ipython3",
   "version": "3.6.7"
  }
 },
 "nbformat": 4,
 "nbformat_minor": 4
}
